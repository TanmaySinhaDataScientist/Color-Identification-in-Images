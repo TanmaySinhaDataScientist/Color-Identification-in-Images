{
 "cells": [
  {
   "cell_type": "markdown",
   "id": "deb6b288",
   "metadata": {},
   "source": [
    "# <span style='background :yellow' > ***Author: TANMAY SINHA*** </span>\n",
    "\n",
    "\n",
    "\n",
    "\n",
    "# The Sparks Foundation\n",
    "\n",
    "\n",
    "\n",
    "\n",
    "## TASK 2 :- Color Identification in Images\n",
    "\n",
    "\n",
    "\n",
    "## Task Objective:- Implement an image color detector which identifies all the colors in an image or video.\n",
    "            "
   ]
  },
  {
   "cell_type": "markdown",
   "id": "038a16a4",
   "metadata": {},
   "source": [
    "# Importing the required libraries"
   ]
  },
  {
   "cell_type": "code",
   "execution_count": null,
   "id": "e85ef43a",
   "metadata": {},
   "outputs": [],
   "source": [
    "import cv2\n",
    "import pandas as pd\n",
    "import numpy as np\n",
    "\n",
    "\n",
    "# OpenCV-Python is a library of Python bindings designed to solve computer vision problems.\n",
    "# cv2.imread() method loads an image from the specified file.\n",
    "# If the image cannot be read then this method returns an empty matrix."
   ]
  },
  {
   "cell_type": "markdown",
   "id": "7625e636",
   "metadata": {},
   "source": [
    "# Reading the image"
   ]
  },
  {
   "cell_type": "code",
   "execution_count": null,
   "id": "d665f8d3",
   "metadata": {},
   "outputs": [],
   "source": [
    "img = cv2.imread('pic.jpg')\n",
    "imgWidth = img.shape[1] - 40"
   ]
  },
  {
   "cell_type": "markdown",
   "id": "be22af10",
   "metadata": {},
   "source": [
    "# Loading the csv data of all the colors to distinguish"
   ]
  },
  {
   "cell_type": "code",
   "execution_count": null,
   "id": "ba70f190",
   "metadata": {},
   "outputs": [],
   "source": [
    "# Reading csv file with pandas and giving names to each column.\n",
    "\n",
    "index = ['color', 'color_name', 'hex', 'R', 'G', 'B']\n",
    "df = pd.read_csv('https://raw.githubusercontent.com/manishsingh7163/Color-Detection/master/Data/colors.csv', header = None, names = index)\n"
   ]
  },
  {
   "cell_type": "code",
   "execution_count": null,
   "id": "5a48c599",
   "metadata": {},
   "outputs": [],
   "source": [
    "# pandas.read_csv :- Read a comma-separated values (csv) file into DataFrame"
   ]
  },
  {
   "cell_type": "code",
   "execution_count": null,
   "id": "e11f680d",
   "metadata": {},
   "outputs": [],
   "source": [
    "df"
   ]
  },
  {
   "cell_type": "markdown",
   "id": "88f6fd10",
   "metadata": {},
   "source": [
    "# Writing the algorithm to generate color detection"
   ]
  },
  {
   "cell_type": "markdown",
   "id": "1a8f2741",
   "metadata": {},
   "source": [
    "Create the draw_function :-\n",
    "It will calculate the rgb values of the pixel which we double click.\n",
    "The function parameters have the event name, (x,y) coordinates of the mouse position, etc.\n",
    "In the function, we check if the event is double-clicked then we calculate and set the r,g,b values along with\n",
    "x,y positions of the mouse.\n",
    "\n",
    "\n",
    "\n",
    "\n",
    "\n",
    "Calculate distance to get color name:- Our distance is calculated by this formula:\n",
    "\n",
    "d = abs(Red – ithRedColor) + (Green – ithGreenColor) + (Blue – ithBlueColor)\n",
    "\n",
    "We have the r,g and b values. Now, we need another function which will return us the color name from RGB values.\n"
   ]
  },
  {
   "cell_type": "code",
   "execution_count": null,
   "id": "0c6a1b0a",
   "metadata": {},
   "outputs": [],
   "source": [
    "r = g = b = xpos = ypos = 0\n",
    "def getRGB(event, x, y, flags, param):\n",
    "    global b, g, r, xpos, ypos, clicked\n",
    "    xpos = x\n",
    "    ypos = y\n",
    "    b,g,r = img[y,x]\n",
    "    b = int(b)\n",
    "    g = int(g)\n",
    "    r = int(r)\n",
    "    \n",
    "    \n",
    "def colorname(B,G,R):\n",
    "    minimum = 10000\n",
    "    for i in range(len(df)):\n",
    "        d = abs(B-int(df.loc[i,\"B\"])) + abs(G-int(df.loc[i,\"G\"])) + abs(R-int(df.loc[i,\"R\"]))\n",
    "        if (d <= minimum):\n",
    "            minimum = d\n",
    "            cname = df.loc[i, \"color_name\"] +  \"Hex\" + df.loc[i, \"hex\"]\n",
    "    return cname\n",
    "\n",
    "cv2.namedWindow(\"Image\")\n",
    "cv2.setMouseCallback(\"Image\", getRGB)\n",
    "            \n",
    "while True:\n",
    "    cv2.imshow(\"Image\", img)\n",
    "    cv2.rectangle(img, (20, 20), (imgWidth, 60), (b, g, r), -1)\n",
    "    text = colorname(b, g, r) + '   R=' + str(r) + ' G=' + str(g) + ' B=' + str(b)\n",
    "    cv2.putText(img, text, (50,50), 2, 0.8, (255,255,255), 2, cv2.LINE_AA)    \n",
    "    if(r+g+b >= 600):\n",
    "        cv2.putText(img, text, (50,50), 2, 0.8, (0, 0, 0), 2, cv2.LINE_AA)   \n",
    "    if cv2.waitKey(1) & 0XFF == ord('q'):\n",
    "        break\n",
    "    \n",
    "cv2.destroyAllWindows()\n"
   ]
  },
  {
   "cell_type": "markdown",
   "id": "b230bac0",
   "metadata": {},
   "source": [
    "Display image on the window :- Using the cv2.imshow() function, we draw the image on the window.\n",
    "\n",
    "\n",
    "\n",
    "\n",
    "When the user double clicks the window, we draw a rectangle and get the color name to draw text on the window using cv2.rectangle and cv2.putText() functions."
   ]
  },
  {
   "cell_type": "code",
   "execution_count": null,
   "id": "e63fe1d4",
   "metadata": {},
   "outputs": [],
   "source": []
  }
 ],
 "metadata": {
  "kernelspec": {
   "display_name": "Python 3 (ipykernel)",
   "language": "python",
   "name": "python3"
  },
  "language_info": {
   "codemirror_mode": {
    "name": "ipython",
    "version": 3
   },
   "file_extension": ".py",
   "mimetype": "text/x-python",
   "name": "python",
   "nbconvert_exporter": "python",
   "pygments_lexer": "ipython3",
   "version": "3.9.6"
  }
 },
 "nbformat": 4,
 "nbformat_minor": 5
}
